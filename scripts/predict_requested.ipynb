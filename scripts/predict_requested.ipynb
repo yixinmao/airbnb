{
 "cells": [
  {
   "cell_type": "code",
   "execution_count": 141,
   "metadata": {
    "collapsed": true
   },
   "outputs": [],
   "source": [
    "%matplotlib inline\n",
    "\n",
    "import csv\n",
    "import pandas as pd\n",
    "import numpy as np\n",
    "import matplotlib.pyplot as plt"
   ]
  },
  {
   "cell_type": "code",
   "execution_count": 2,
   "metadata": {
    "collapsed": true
   },
   "outputs": [],
   "source": [
    "# ================================================= #\n",
    "# Parameter setting\n",
    "# ================================================= #\n",
    "# Original data path\n",
    "data_path = \"../TH_data_challenge.tsv\""
   ]
  },
  {
   "cell_type": "code",
   "execution_count": 11,
   "metadata": {},
   "outputs": [],
   "source": [
    "# ================================================= #\n",
    "# Load data\n",
    "# ================================================= #\n",
    "df_data = pd.DataFrame.from_csv(data_path, sep='\\t', index_col=None)"
   ]
  },
  {
   "cell_type": "code",
   "execution_count": 14,
   "metadata": {},
   "outputs": [
    {
     "data": {
      "text/plain": [
       "184279"
      ]
     },
     "execution_count": 14,
     "metadata": {},
     "output_type": "execute_result"
    }
   ],
   "source": [
    "len(df_data)"
   ]
  },
  {
   "cell_type": "code",
   "execution_count": 192,
   "metadata": {},
   "outputs": [],
   "source": [
    "# ================================================= #\n",
    "# Process data into numerical features\n",
    "# ================================================= #\n",
    "# --- Separate dim_is_requested (\"y\") from features --- #\n",
    "df_data_num = df_data.copy(deep=True)\n",
    "s_dim_is_requested = df_data_num['dim_is_requested']\n",
    "del df_data_num['dim_is_requested']\n",
    "# --- Delete some columns --- #\n",
    "# ds_night, ds, id_listing_anon, id_user_anon - delete\n",
    "del df_data_num['ds_night']\n",
    "del df_data_num['ds']\n",
    "del df_data_num['id_listing_anon']\n",
    "del df_data_num['id_user_anon']\n",
    "# --- Encode categorical features --- #\n",
    "# --- Put these features separate from the continuous features --- #\n",
    "list_encoded = []\n",
    "# dim_market - one-hot encoding\n",
    "df = encode_column_onehot(\n",
    "    df_data_num, 'dim_market', ['Los Angeles', 'Paris', 'San Francisco'])\n",
    "list_encoded.append(df)\n",
    "# dim_room_type - one-hot encoding\n",
    "df = encode_column_onehot(\n",
    "    df_data_num, 'dim_room_type', ['Private room', 'Shared room', 'Entire home/apt'])\n",
    "list_encoded.append(df)\n",
    "# dim_is_instant_bookable - boolean -> int\n",
    "s = df_data_num['dim_is_instant_bookable'].astype(int)\n",
    "del df_data_num['dim_is_instant_bookable']\n",
    "list_encoded.append(s)\n",
    "# cancel_policy - one-hot encoding\n",
    "df = encode_column_onehot(\n",
    "    df_data_num, 'cancel_policy', [3, 4, 5, 6, 7, 8, 9])\n",
    "list_encoded.append(df)\n",
    "# dim_has_wireless_internet - keep as 0/1\n",
    "s = df_data_num['dim_has_wireless_internet']\n",
    "del df_data_num['dim_has_wireless_internet']\n",
    "list_encoded.append(s)\n",
    "# ds_night_day_of_week - cyclic encoding\n",
    "df = encode_column_cyclic(df_data_num, 'ds_night_day_of_week', [0, 7])\n",
    "list_encoded.append(df)\n",
    "# # (plot encoded ds_night_day_of_week for illustration)\n",
    "# fig = plt.figure()\n",
    "# plt.plot(df['ds_night_day_of_week_1'], df['ds_night_day_of_week_2'], '.')\n",
    "# ds_night_day_of_year\n",
    "df = encode_column_cyclic(df_data_num, 'ds_night_day_of_year', [0, 365])\n",
    "list_encoded.append(df)\n",
    "# --- Standardize continuous features to have zero mean and unit variance --- #\n",
    "s_feature_mean = df_data_num.mean(axis=0)\n",
    "s_feature_std = df_data_num.std(axis=0)\n",
    "df_data_num = (df_data_num - s_feature_mean) / s_feature_std\n",
    "# --- Put \"y\", continuous features and encoded categorical features together --- #\n",
    "df_data_num = pd.concat([s_dim_is_requested] + [df_data_num] + list_encoded, axis=1)"
   ]
  },
  {
   "cell_type": "code",
   "execution_count": null,
   "metadata": {
    "collapsed": true
   },
   "outputs": [],
   "source": []
  },
  {
   "cell_type": "code",
   "execution_count": null,
   "metadata": {
    "collapsed": true
   },
   "outputs": [],
   "source": []
  },
  {
   "cell_type": "code",
   "execution_count": 162,
   "metadata": {
    "collapsed": true
   },
   "outputs": [],
   "source": [
    "def encode_column_cyclic(df, column_name, circle_range):\n",
    "    ''' Delete a column in a DataFrame and return a list of columns (in a df)\n",
    "    with cyclic encoded numerical values.\n",
    "    \n",
    "    Parameters\n",
    "    ----------\n",
    "    df: <pd.DataFrame>\n",
    "        Original df\n",
    "    column_name: <str>\n",
    "        Name of the column to be replaced\n",
    "    circle_range: <list>\n",
    "        A list of two numbers indicating the range of the orig. data. These\n",
    "        two numbers are essentially representing the same point in a circle.\n",
    "        E.g., if weekdays are represented by 0, 1, ..., 6, then circle_range\n",
    "        = [0, 7]\n",
    "    Return\n",
    "    ----------\n",
    "    df_cyclic: <pd.DataFrame>\n",
    "        The new df, with column names \"column_name_1\", \"column_name_2\"\n",
    "    '''\n",
    "\n",
    "    # Generate cyclically encoded columns\n",
    "    s_sin = np.sin(2 * np.pi * df_data_num[column_name] / (circle_range[1] - circle_range[0]))\n",
    "    s_cos = np.cos(2 * np.pi * df_data_num[column_name] / (circle_range[1] - circle_range[0]))\n",
    "    # Delete the original column\n",
    "    del df[column_name]\n",
    "    # Generate new df\n",
    "    new_column_names = []\n",
    "    for i in range(2):\n",
    "        new_column_names.append('{}_{}'.format(column_name, i+1))\n",
    "    df_cyclic = pd.concat([s_sin, s_cos], axis=1, keys=new_column_names)\n",
    "    \n",
    "    return df_cyclic"
   ]
  },
  {
   "cell_type": "code",
   "execution_count": 133,
   "metadata": {},
   "outputs": [],
   "source": [
    "def encode_column_onehot(df, column_name, list_categ):\n",
    "    ''' Delete a column in a DataFrame and return a list of columns (in a df)\n",
    "    with one-hot encoded numerical values.\n",
    "    \n",
    "    Parameters\n",
    "    ----------\n",
    "    df: <pd.DataFrame>\n",
    "        Original df\n",
    "    column_name: <str>\n",
    "        Name of the column to be replaced\n",
    "    list_catog: <list>\n",
    "        List of categories in the column\n",
    "    \n",
    "    Return\n",
    "    ----------\n",
    "    df_onehot: <pd.DataFrame>\n",
    "        The new df, with column names \"column_name_1\", \"column_name_2\", ...\n",
    "    '''\n",
    "    \n",
    "    # Generate one-hot encoded columns\n",
    "    list_s = []\n",
    "    for i in range(len(list_categ)):\n",
    "        s = (df[column_name] == list_categ[i]).astype(int)\n",
    "        list_s.append(s)\n",
    "    # Check if all categories sum up to the total number of data points\n",
    "    sum_num = sum([sum(s) for s in list_s])\n",
    "    if sum_num != len(df):\n",
    "        print('Warming: {} has missing data!'.format(column_name))\n",
    "    # Delete the original column\n",
    "    del df[column_name]\n",
    "    # Generate new df\n",
    "    new_column_names = []\n",
    "    for i in range(len(list_categ)):\n",
    "        new_column_names.append('{}_{}'.format(column_name, i+1))\n",
    "    df_onehot = pd.concat(list_s, axis=1, keys=new_column_names)\n",
    "    \n",
    "    return df_onehot"
   ]
  }
 ],
 "metadata": {
  "kernelspec": {
   "display_name": "Python 3",
   "language": "python",
   "name": "python3"
  },
  "language_info": {
   "codemirror_mode": {
    "name": "ipython",
    "version": 3
   },
   "file_extension": ".py",
   "mimetype": "text/x-python",
   "name": "python",
   "nbconvert_exporter": "python",
   "pygments_lexer": "ipython3",
   "version": "3.6.2"
  }
 },
 "nbformat": 4,
 "nbformat_minor": 2
}
