{
 "cells": [
  {
   "cell_type": "code",
   "execution_count": 20,
   "metadata": {
    "collapsed": true
   },
   "outputs": [],
   "source": [
    "%matplotlib inline\n",
    "\n",
    "import csv\n",
    "import pandas as pd\n",
    "import numpy as np\n",
    "import matplotlib.pyplot as plt\n",
    "import seaborn\n",
    "import os\n",
    "from sklearn.linear_model import LogisticRegression"
   ]
  },
  {
   "cell_type": "code",
   "execution_count": 6,
   "metadata": {
    "collapsed": true
   },
   "outputs": [],
   "source": [
    "# ================================================= #\n",
    "# Parameter setting\n",
    "# ================================================= #\n",
    "# Original data path\n",
    "data_path = \"../TH_data_challenge.tsv\"\n",
    "\n",
    "# Output directory\n",
    "output_dir = \"../output\""
   ]
  },
  {
   "cell_type": "code",
   "execution_count": 7,
   "metadata": {
    "collapsed": true
   },
   "outputs": [],
   "source": [
    "# ================================================= #\n",
    "# Load data\n",
    "# ================================================= #\n",
    "df_data = pd.DataFrame.from_csv(data_path, sep='\\t', index_col=None)"
   ]
  },
  {
   "cell_type": "code",
   "execution_count": 140,
   "metadata": {},
   "outputs": [
    {
     "name": "stderr",
     "output_type": "stream",
     "text": [
      "C:\\Users\\Mao\\Anaconda3\\lib\\site-packages\\ipykernel_launcher.py:47: SettingWithCopyWarning: \n",
      "A value is trying to be set on a copy of a slice from a DataFrame\n",
      "\n",
      "See the caveats in the documentation: http://pandas.pydata.org/pandas-docs/stable/indexing.html#indexing-view-versus-copy\n"
     ]
    }
   ],
   "source": [
    "# ================================================= #\n",
    "# Process data into numerical features\n",
    "# ================================================= #\n",
    "# --- Separate dim_is_requested (\"y\") from features --- #\n",
    "df_data_num = df_data.copy(deep=True)\n",
    "s_dim_is_requested = df_data_num['dim_is_requested']\n",
    "del df_data_num['dim_is_requested']\n",
    "\n",
    "# --- Delete some columns --- #\n",
    "# ds_night, ds, id_listing_anon, id_user_anon - delete\n",
    "del df_data_num['ds_night']\n",
    "del df_data_num['ds']\n",
    "del df_data_num['id_listing_anon']\n",
    "del df_data_num['id_user_anon']\n",
    "\n",
    "# --- Fill in missing values --- #\n",
    "# m_checkouts - 0\n",
    "df_data_num['m_checkouts'] = df_data_num['m_checkouts'].fillna(0)\n",
    "# m_reviews - 0\n",
    "df_data_num['m_reviews'] = df_data_num['m_reviews'].fillna(0)\n",
    "# days_since_last_booking - a big value (2000)\n",
    "df_data_num['days_since_last_booking'] = df_data_num['m_reviews'].fillna(2000)\n",
    "# image_quality_score\n",
    "df_data_num['image_quality_score'] = \\\n",
    "    df_data_num['image_quality_score'].fillna(\n",
    "        df_data_num['image_quality_score'].mean())\n",
    "# m_total_overall_rating - 0\n",
    "df_data_num['m_total_overall_rating'] = df_data_num['m_total_overall_rating'].fillna(0)\n",
    "# m_professional_pictures - 0\n",
    "df_data_num['m_professional_pictures'] = df_data_num['m_professional_pictures'].fillna(0)\n",
    "# ds_checkin_gap - maximum value (7)\n",
    "df_data_num['ds_checkin_gap'] = df_data_num['ds_checkin_gap'].fillna(7)\n",
    "# ds_checkout_gap - maximum value (7)\n",
    "df_data_num['ds_checkout_gap'] = df_data_num['ds_checkout_gap'].fillna(7)\n",
    "# occ_occupancy_plus_minus_7_ds_night - calculate from ds_checkin_gap and ds_checkout_gap\n",
    "df_data_num['occ_occupancy_plus_minus_7_ds_night'] = \\\n",
    "    df_data_num['occ_occupancy_plus_minus_7_ds_night'].fillna(\n",
    "        1 - (df_data_num['ds_checkin_gap'] + df_data_num['ds_checkout_gap']) / 14)\n",
    "# occ_occupancy_plus_minus_14_ds_night - calculate from ds_checkin_gap and ds_checkout_gap;\n",
    "# assuming zero booking for unknown days\n",
    "df_data_num['occ_occupancy_plus_minus_14_ds_night'] = \\\n",
    "    df_data_num['occ_occupancy_plus_minus_14_ds_night'].fillna(\n",
    "        1 - (df_data_num['ds_checkin_gap'] + df_data_num['ds_checkout_gap']) / 28)\n",
    "# occ_occupancy_trailing_90_ds - 0\n",
    "df_data_num['occ_occupancy_trailing_90_ds'] = \\\n",
    "    df_data_num['occ_occupancy_trailing_90_ds'].fillna(0)\n",
    "# m_minimum_nights - minimum value (1)\n",
    "df_data_num['m_minimum_nights'] = df_data_num['m_minimum_nights'].fillna(1)\n",
    "# m_maximum_nights - maximum value (10000); also set huge number to 10000\n",
    "df_data_num['m_maximum_nights'] = df_data_num['m_maximum_nights'].fillna(10000)\n",
    "df_data_num['m_maximum_nights'][df_data_num['m_maximum_nights']>10000] = 10000\n",
    "# price_booked_most_recent - same as m_effective_daily_price\n",
    "df_data_num['price_booked_most_recent'] = df_data_num['price_booked_most_recent'].fillna(\n",
    "    df_data_num['m_effective_daily_price'])\n",
    "# p2_p3_click_through_score - fill with mean\n",
    "df_data_num['p2_p3_click_through_score'] = df_data_num['p2_p3_click_through_score'].fillna(\n",
    "    df_data_num['p2_p3_click_through_score'].mean())\n",
    "# p3_inquiry_score  - fill with mean\n",
    "df_data_num['p3_inquiry_score'] = df_data_num['p3_inquiry_score'].fillna(\n",
    "    df_data_num['p3_inquiry_score'].mean())\n",
    "# listing_m_listing_views_2_6_ds_night_decay - fill with mean\n",
    "df_data_num['listing_m_listing_views_2_6_ds_night_decay'] = \\\n",
    "    df_data_num['listing_m_listing_views_2_6_ds_night_decay'].fillna(\n",
    "        df_data_num['listing_m_listing_views_2_6_ds_night_decay'].mean())\n",
    "# r_kdt_listing_views_0_6_avg_n100 - fill with mean\n",
    "df_data_num['r_kdt_listing_views_0_6_avg_n100'] = \\\n",
    "    df_data_num['r_kdt_listing_views_0_6_avg_n100'].fillna(\n",
    "        df_data_num['r_kdt_listing_views_0_6_avg_n100'].mean())\n",
    "# r_kdt_n_active_n100 - fill with mean\n",
    "df_data_num['r_kdt_n_active_n100'] = \\\n",
    "    df_data_num['r_kdt_n_active_n100'].fillna(\n",
    "        df_data_num['r_kdt_n_active_n100'].mean())\n",
    "# r_kdt_n_available_n100 - fill with mean\n",
    "df_data_num['r_kdt_n_available_n100'] = \\\n",
    "    df_data_num['r_kdt_n_available_n100'].fillna(\n",
    "        df_data_num['r_kdt_n_available_n100'].mean())\n",
    "# r_kdt_m_effective_daily_price_n100_p50 - fill with mean\n",
    "df_data_num['r_kdt_m_effective_daily_price_n100_p50'] = \\\n",
    "    df_data_num['r_kdt_m_effective_daily_price_n100_p50'].fillna(\n",
    "        df_data_num['r_kdt_m_effective_daily_price_n100_p50'].mean())\n",
    "# r_kdt_m_effective_daily_price_available_n100_p50 - fill with mean\n",
    "df_data_num['r_kdt_m_effective_daily_price_available_n100_p50'] = \\\n",
    "    df_data_num['r_kdt_m_effective_daily_price_available_n100_p50'].fillna(\n",
    "        df_data_num['r_kdt_m_effective_daily_price_available_n100_p50'].mean())\n",
    "# r_kdt_m_effective_daily_price_booked_n100_p50\n",
    "df_data_num['r_kdt_m_effective_daily_price_booked_n100_p50'] = \\\n",
    "    df_data_num['r_kdt_m_effective_daily_price_booked_n100_p50'].fillna(\n",
    "        df_data_num['r_kdt_m_effective_daily_price_booked_n100_p50'].mean())\n",
    "    \n",
    "# --- Encode categorical features --- #\n",
    "# --- Put these features separate from the continuous features --- #\n",
    "list_encoded = []\n",
    "# dim_market - one-hot encoding\n",
    "df = encode_column_onehot(\n",
    "    df_data_num, 'dim_market', ['Los Angeles', 'Paris', 'San Francisco'])\n",
    "list_encoded.append(df)\n",
    "# dim_room_type - one-hot encoding\n",
    "df = encode_column_onehot(\n",
    "    df_data_num, 'dim_room_type', ['Private room', 'Shared room', 'Entire home/apt'])\n",
    "list_encoded.append(df)\n",
    "# dim_is_instant_bookable - boolean -> int\n",
    "s = df_data_num['dim_is_instant_bookable'].astype(int)\n",
    "del df_data_num['dim_is_instant_bookable']\n",
    "list_encoded.append(s)\n",
    "# cancel_policy - one-hot encoding\n",
    "df = encode_column_onehot(\n",
    "    df_data_num, 'cancel_policy', [3, 4, 5, 6, 7, 8, 9])\n",
    "list_encoded.append(df)\n",
    "# dim_has_wireless_internet - keep as 0/1\n",
    "s = df_data_num['dim_has_wireless_internet']\n",
    "del df_data_num['dim_has_wireless_internet']\n",
    "list_encoded.append(s)\n",
    "# ds_night_day_of_week - cyclic encoding\n",
    "df = encode_column_cyclic(df_data_num, 'ds_night_day_of_week', [0, 7])\n",
    "list_encoded.append(df)\n",
    "# ds_night_day_of_year\n",
    "df = encode_column_cyclic(df_data_num, 'ds_night_day_of_year', [0, 365])\n",
    "list_encoded.append(df)\n",
    "\n",
    "# --- Standardize continuous features to have zero mean and unit variance --- #\n",
    "s_feature_mean = df_data_num.mean(axis=0)\n",
    "s_feature_std = df_data_num.std(axis=0)\n",
    "df_data_num = (df_data_num - s_feature_mean) / s_feature_std\n",
    "\n",
    "# --- Put \"y\", continuous features and encoded categorical features together --- #\n",
    "df_data_num = pd.concat([s_dim_is_requested] + [df_data_num] + list_encoded, axis=1)"
   ]
  },
  {
   "cell_type": "code",
   "execution_count": 9,
   "metadata": {},
   "outputs": [
    {
     "data": {
      "image/png": "[encoded data removed]",
      "text/plain": [
       "<matplotlib.figure.Figure at 0x18fb6b74320>"
      ]
     },
     "metadata": {},
     "output_type": "display_data"
    }
   ],
   "source": [
    "# (plot encoded ds_night_day_of_week for illustration)\n",
    "fig = plt.figure(figsize=(5, 5))\n",
    "s_sin = df_data_num['ds_night_day_of_week_1']\n",
    "s_cos = df_data_num['ds_night_day_of_week_2']\n",
    "plt.plot(s_sin, s_cos, '.')\n",
    "plt.xlabel(\"sin(day of week)\", fontsize=16)\n",
    "plt.ylabel(\"cos(day of week)\", fontsize=16)\n",
    "plt.axis('scaled');\n",
    "fig.savefig(os.path.join(output_dir, 'cyclic_encode.png'),\n",
    "            format='png', bbox_inches='tight')"
   ]
  },
  {
   "cell_type": "code",
   "execution_count": 29,
   "metadata": {
    "scrolled": true
   },
   "outputs": [
    {
     "data": {
      "image/png": "[encoded data removed]",
      "text/plain": [
       "<matplotlib.figure.Figure at 0x18fbc4aa438>"
      ]
     },
     "metadata": {},
     "output_type": "display_data"
    }
   ],
   "source": [
    "# ================================================= #\n",
    "# Divide training, validation and test sets (6:2:2)\n",
    "# ================================================= #\n",
    "np.random.seed(2222)\n",
    "# --- Determine the size of each set --- #\n",
    "n_train = int(len(df_data_num) * 0.6)\n",
    "n_vali = int(len(df_data_num) * 0.2)\n",
    "n_test = len(df_data_num) - n_train - n_vali\n",
    "# --- Randomly divide the orig. dataset --- #\n",
    "df_shuffled = df_data_num.sample(frac=1)\n",
    "df_train = df_shuffled[:n_train]\n",
    "df_vali = df_shuffled[n_train:(n_train+n_vali)]\n",
    "df_test = df_shuffled[(n_train+n_vali):]\n",
    "\n",
    "# --- Check whether data is evenly distributed - plot bar charts --- #\n",
    "fig = plt.figure(figsize=(10, 5))\n",
    "# Check dim_is_requested distribution\n",
    "ax = plt.subplot(1, 2, 1)\n",
    "y_frac_train = df_train['dim_is_requested'].sum() / len(df_train)\n",
    "y_frac_vali = df_vali['dim_is_requested'].sum() / len(df_vali)\n",
    "y_frac_test = df_test['dim_is_requested'].sum() / len(df_test)\n",
    "y_true = [y_frac_train, y_frac_vali, y_frac_test]\n",
    "y_false = [1-y_frac_train, 1-y_frac_vali, 1-y_frac_test]\n",
    "ax = plot_bar_stacked(\n",
    "    ax, [y_true, y_false],\n",
    "    bar_names=['Training', 'Validation', 'Test'],\n",
    "    ylabel='Fraction',\n",
    "    legends=['Eventually booked', 'Not booked'])\n",
    "# Check dim_market distribution\n",
    "ax = plt.subplot(1, 2, 2)\n",
    "market_frac = []\n",
    "n_market = 3\n",
    "for i in range(n_market):\n",
    "    frac_train = df_train['dim_market_{}'.format(i+1)].sum() / len(df_train)\n",
    "    frac_vali = df_vali['dim_market_{}'.format(i+1)].sum() / len(df_vali)\n",
    "    frac_test = df_test['dim_market_{}'.format(i+1)].sum() / len(df_test)\n",
    "    market_frac.append([frac_train, frac_vali, frac_test])\n",
    "ax = plot_bar_stacked(\n",
    "    ax, market_frac,\n",
    "    bar_names=['Training', 'Validation', 'Test'],\n",
    "    ylabel='Fraction',\n",
    "    legends=['Los Angeles', 'Paris', 'San Francisco'])\n",
    "fig.savefig(os.path.join(output_dir, 'data_divide_check.png'),\n",
    "            format='png', bbox_inches='tight')"
   ]
  },
  {
   "cell_type": "code",
   "execution_count": null,
   "metadata": {
    "scrolled": true
   },
   "outputs": [],
   "source": [
    "# ================================================= #\n",
    "# Fit logistic regression (all features; no regularization)\n",
    "# ================================================= #\n",
    "X = df_data_num.values[:, 1:]\n",
    "y = df_data_num['dim_is_requested'].astype(int).values\n",
    "logreg_no_reg = LogisticRegression(C=1e9)\n",
    "logreg_no_reg.fit(X, y)"
   ]
  },
  {
   "cell_type": "code",
   "execution_count": null,
   "metadata": {
    "collapsed": true
   },
   "outputs": [],
   "source": []
  },
  {
   "cell_type": "code",
   "execution_count": null,
   "metadata": {
    "collapsed": true
   },
   "outputs": [],
   "source": []
  },
  {
   "cell_type": "code",
   "execution_count": null,
   "metadata": {
    "collapsed": true
   },
   "outputs": [],
   "source": []
  },
  {
   "cell_type": "code",
   "execution_count": 18,
   "metadata": {
    "collapsed": true
   },
   "outputs": [],
   "source": [
    "def plot_bar_stacked(ax, data, bar_names, ylabel, legends):\n",
    "    ''' Plot a stacked bar plot.\n",
    "    \n",
    "    Parameters\n",
    "    ----------\n",
    "    ax: <matplotlib.axes._subplots.AxesSubplot>\n",
    "        Axis to plot\n",
    "    data: <list>\n",
    "        Nested data to plot.\n",
    "        Level 1: each stack; level 2: each bar\n",
    "    bar_names: <list>\n",
    "        List of names to show on the x axis; must be the same length\n",
    "        as the number of bars in data\n",
    "    ylabel: <str>\n",
    "        ylabel on the plot\n",
    "    legends: <list>\n",
    "        List of legends; must be the same length of number of stacks\n",
    "    \n",
    "    Returns\n",
    "    ----------\n",
    "    ax: <matplotlib.axes._subplots.AxesSubplot>\n",
    "        The axis\n",
    "    '''\n",
    "    \n",
    "    width = 0.35\n",
    "    nbars = len(data[0])\n",
    "    ind = range(nbars)\n",
    "    list_p = []\n",
    "    bottom = data[0]\n",
    "    bottom = [0 for d in bottom]\n",
    "    for i, data_bar in enumerate(data):\n",
    "        list_p.append(plt.bar(ind, data_bar, width,\n",
    "                              bottom=bottom))\n",
    "        bottom = [d+data_bar[j] for j, d in enumerate(bottom)]\n",
    "    plt.ylabel(ylabel, fontsize=16)\n",
    "    plt.xticks(ind, bar_names)\n",
    "    plt.legend(list_p, legends)\n",
    "    for tick in ax.xaxis.get_major_ticks():\n",
    "        tick.label.set_fontsize(16)\n",
    "    return ax"
   ]
  },
  {
   "cell_type": "code",
   "execution_count": 4,
   "metadata": {
    "collapsed": true
   },
   "outputs": [],
   "source": [
    "def encode_column_cyclic(df, column_name, circle_range):\n",
    "    ''' Delete a column in a DataFrame and return a list of columns (in a df)\n",
    "    with cyclic encoded numerical values.\n",
    "    \n",
    "    Parameters\n",
    "    ----------\n",
    "    df: <pd.DataFrame>\n",
    "        Original df\n",
    "    column_name: <str>\n",
    "        Name of the column to be replaced\n",
    "    circle_range: <list>\n",
    "        A list of two numbers indicating the range of the orig. data. These\n",
    "        two numbers are essentially representing the same point in a circle.\n",
    "        E.g., if weekdays are represented by 0, 1, ..., 6, then circle_range\n",
    "        = [0, 7]\n",
    "    Return\n",
    "    ----------\n",
    "    df_cyclic: <pd.DataFrame>\n",
    "        The new df, with column names \"column_name_1\", \"column_name_2\"\n",
    "    '''\n",
    "\n",
    "    # Generate cyclically encoded columns\n",
    "    s_sin = np.sin(2 * np.pi * df_data_num[column_name] / (circle_range[1] - circle_range[0]))\n",
    "    s_cos = np.cos(2 * np.pi * df_data_num[column_name] / (circle_range[1] - circle_range[0]))\n",
    "    # Delete the original column\n",
    "    del df[column_name]\n",
    "    # Generate new df\n",
    "    new_column_names = []\n",
    "    for i in range(2):\n",
    "        new_column_names.append('{}_{}'.format(column_name, i+1))\n",
    "    df_cyclic = pd.concat([s_sin, s_cos], axis=1, keys=new_column_names)\n",
    "    \n",
    "    return df_cyclic"
   ]
  },
  {
   "cell_type": "code",
   "execution_count": 5,
   "metadata": {
    "collapsed": true
   },
   "outputs": [],
   "source": [
    "def encode_column_onehot(df, column_name, list_categ):\n",
    "    ''' Delete a column in a DataFrame and return a list of columns (in a df)\n",
    "    with one-hot encoded numerical values.\n",
    "    \n",
    "    Parameters\n",
    "    ----------\n",
    "    df: <pd.DataFrame>\n",
    "        Original df\n",
    "    column_name: <str>\n",
    "        Name of the column to be replaced\n",
    "    list_catog: <list>\n",
    "        List of categories in the column\n",
    "    \n",
    "    Return\n",
    "    ----------\n",
    "    df_onehot: <pd.DataFrame>\n",
    "        The new df, with column names \"column_name_1\", \"column_name_2\", ...\n",
    "    '''\n",
    "    \n",
    "    # Generate one-hot encoded columns\n",
    "    list_s = []\n",
    "    for i in range(len(list_categ)):\n",
    "        s = (df[column_name] == list_categ[i]).astype(int)\n",
    "        list_s.append(s)\n",
    "    # Check if all categories sum up to the total number of data points\n",
    "    sum_num = sum([sum(s) for s in list_s])\n",
    "    if sum_num != len(df):\n",
    "        print('Warming: {} has missing data!'.format(column_name))\n",
    "    # Delete the original column\n",
    "    del df[column_name]\n",
    "    # Generate new df\n",
    "    new_column_names = []\n",
    "    for i in range(len(list_categ)):\n",
    "        new_column_names.append('{}_{}'.format(column_name, i+1))\n",
    "    df_onehot = pd.concat(list_s, axis=1, keys=new_column_names)\n",
    "    \n",
    "    return df_onehot"
   ]
  },
  {
   "cell_type": "code",
   "execution_count": null,
   "metadata": {
    "collapsed": true
   },
   "outputs": [],
   "source": []
  }
 ],
 "metadata": {
  "kernelspec": {
   "display_name": "Python 3",
   "language": "python",
   "name": "python3"
  },
  "language_info": {
   "codemirror_mode": {
    "name": "ipython",
    "version": 3
   },
   "file_extension": ".py",
   "mimetype": "text/x-python",
   "name": "python",
   "nbconvert_exporter": "python",
   "pygments_lexer": "ipython3",
   "version": "3.6.2"
  }
 },
 "nbformat": 4,
 "nbformat_minor": 2
}
