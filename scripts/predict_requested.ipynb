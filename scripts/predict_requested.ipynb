{
 "cells": [
  {
   "cell_type": "code",
   "execution_count": 262,
   "metadata": {
    "collapsed": true
   },
   "outputs": [],
   "source": [
    "%matplotlib inline\n",
    "\n",
    "import csv\n",
    "import pandas as pd\n",
    "import numpy as np\n",
    "import matplotlib.pyplot as plt\n",
    "import seaborn\n",
    "import os\n",
    "from sklearn.linear_model import LogisticRegression\n",
    "from sklearn.metrics import f1_score\n",
    "import timeit\n",
    "from sklearn.ensemble import RandomForestClassifier"
   ]
  },
  {
   "cell_type": "code",
   "execution_count": 6,
   "metadata": {
    "collapsed": true
   },
   "outputs": [],
   "source": [
    "# ================================================= #\n",
    "# Parameter setting\n",
    "# ================================================= #\n",
    "# Original data path\n",
    "data_path = \"../TH_data_challenge.tsv\"\n",
    "\n",
    "# Output directory\n",
    "output_dir = \"../output\""
   ]
  },
  {
   "cell_type": "code",
   "execution_count": 7,
   "metadata": {
    "collapsed": true
   },
   "outputs": [],
   "source": [
    "# ================================================= #\n",
    "# Load data\n",
    "# ================================================= #\n",
    "df_data = pd.DataFrame.from_csv(data_path, sep='\\t', index_col=None)"
   ]
  },
  {
   "cell_type": "code",
   "execution_count": 140,
   "metadata": {},
   "outputs": [
    {
     "name": "stderr",
     "output_type": "stream",
     "text": [
      "C:\\Users\\Mao\\Anaconda3\\lib\\site-packages\\ipykernel_launcher.py:47: SettingWithCopyWarning: \n",
      "A value is trying to be set on a copy of a slice from a DataFrame\n",
      "\n",
      "See the caveats in the documentation: http://pandas.pydata.org/pandas-docs/stable/indexing.html#indexing-view-versus-copy\n"
     ]
    }
   ],
   "source": [
    "# ================================================= #\n",
    "# Process data into numerical features\n",
    "# ================================================= #\n",
    "# --- Separate dim_is_requested (\"y\") from features --- #\n",
    "df_data_num = df_data.copy(deep=True)\n",
    "s_dim_is_requested = df_data_num['dim_is_requested']\n",
    "del df_data_num['dim_is_requested']\n",
    "\n",
    "# --- Delete some columns --- #\n",
    "# ds_night, ds, id_listing_anon, id_user_anon - delete\n",
    "del df_data_num['ds_night']\n",
    "del df_data_num['ds']\n",
    "del df_data_num['id_listing_anon']\n",
    "del df_data_num['id_user_anon']\n",
    "\n",
    "# --- Fill in missing values --- #\n",
    "# m_checkouts - 0\n",
    "df_data_num['m_checkouts'] = df_data_num['m_checkouts'].fillna(0)\n",
    "# m_reviews - 0\n",
    "df_data_num['m_reviews'] = df_data_num['m_reviews'].fillna(0)\n",
    "# days_since_last_booking - a big value (2000)\n",
    "df_data_num['days_since_last_booking'] = df_data_num['m_reviews'].fillna(2000)\n",
    "# image_quality_score\n",
    "df_data_num['image_quality_score'] = \\\n",
    "    df_data_num['image_quality_score'].fillna(\n",
    "        df_data_num['image_quality_score'].mean())\n",
    "# m_total_overall_rating - 0\n",
    "df_data_num['m_total_overall_rating'] = df_data_num['m_total_overall_rating'].fillna(0)\n",
    "# m_professional_pictures - 0\n",
    "df_data_num['m_professional_pictures'] = df_data_num['m_professional_pictures'].fillna(0)\n",
    "# ds_checkin_gap - maximum value (7)\n",
    "df_data_num['ds_checkin_gap'] = df_data_num['ds_checkin_gap'].fillna(7)\n",
    "# ds_checkout_gap - maximum value (7)\n",
    "df_data_num['ds_checkout_gap'] = df_data_num['ds_checkout_gap'].fillna(7)\n",
    "# occ_occupancy_plus_minus_7_ds_night - calculate from ds_checkin_gap and ds_checkout_gap\n",
    "df_data_num['occ_occupancy_plus_minus_7_ds_night'] = \\\n",
    "    df_data_num['occ_occupancy_plus_minus_7_ds_night'].fillna(\n",
    "        1 - (df_data_num['ds_checkin_gap'] + df_data_num['ds_checkout_gap']) / 14)\n",
    "# occ_occupancy_plus_minus_14_ds_night - calculate from ds_checkin_gap and ds_checkout_gap;\n",
    "# assuming zero booking for unknown days\n",
    "df_data_num['occ_occupancy_plus_minus_14_ds_night'] = \\\n",
    "    df_data_num['occ_occupancy_plus_minus_14_ds_night'].fillna(\n",
    "        1 - (df_data_num['ds_checkin_gap'] + df_data_num['ds_checkout_gap']) / 28)\n",
    "# occ_occupancy_trailing_90_ds - 0\n",
    "df_data_num['occ_occupancy_trailing_90_ds'] = \\\n",
    "    df_data_num['occ_occupancy_trailing_90_ds'].fillna(0)\n",
    "# m_minimum_nights - minimum value (1)\n",
    "df_data_num['m_minimum_nights'] = df_data_num['m_minimum_nights'].fillna(1)\n",
    "# m_maximum_nights - maximum value (10000); also set huge number to 10000\n",
    "df_data_num['m_maximum_nights'] = df_data_num['m_maximum_nights'].fillna(10000)\n",
    "df_data_num['m_maximum_nights'][df_data_num['m_maximum_nights']>10000] = 10000\n",
    "# price_booked_most_recent - same as m_effective_daily_price\n",
    "df_data_num['price_booked_most_recent'] = df_data_num['price_booked_most_recent'].fillna(\n",
    "    df_data_num['m_effective_daily_price'])\n",
    "# p2_p3_click_through_score - fill with mean\n",
    "df_data_num['p2_p3_click_through_score'] = df_data_num['p2_p3_click_through_score'].fillna(\n",
    "    df_data_num['p2_p3_click_through_score'].mean())\n",
    "# p3_inquiry_score  - fill with mean\n",
    "df_data_num['p3_inquiry_score'] = df_data_num['p3_inquiry_score'].fillna(\n",
    "    df_data_num['p3_inquiry_score'].mean())\n",
    "# listing_m_listing_views_2_6_ds_night_decay - fill with mean\n",
    "df_data_num['listing_m_listing_views_2_6_ds_night_decay'] = \\\n",
    "    df_data_num['listing_m_listing_views_2_6_ds_night_decay'].fillna(\n",
    "        df_data_num['listing_m_listing_views_2_6_ds_night_decay'].mean())\n",
    "# r_kdt_listing_views_0_6_avg_n100 - fill with mean\n",
    "df_data_num['r_kdt_listing_views_0_6_avg_n100'] = \\\n",
    "    df_data_num['r_kdt_listing_views_0_6_avg_n100'].fillna(\n",
    "        df_data_num['r_kdt_listing_views_0_6_avg_n100'].mean())\n",
    "# r_kdt_n_active_n100 - fill with mean\n",
    "df_data_num['r_kdt_n_active_n100'] = \\\n",
    "    df_data_num['r_kdt_n_active_n100'].fillna(\n",
    "        df_data_num['r_kdt_n_active_n100'].mean())\n",
    "# r_kdt_n_available_n100 - fill with mean\n",
    "df_data_num['r_kdt_n_available_n100'] = \\\n",
    "    df_data_num['r_kdt_n_available_n100'].fillna(\n",
    "        df_data_num['r_kdt_n_available_n100'].mean())\n",
    "# r_kdt_m_effective_daily_price_n100_p50 - fill with mean\n",
    "df_data_num['r_kdt_m_effective_daily_price_n100_p50'] = \\\n",
    "    df_data_num['r_kdt_m_effective_daily_price_n100_p50'].fillna(\n",
    "        df_data_num['r_kdt_m_effective_daily_price_n100_p50'].mean())\n",
    "# r_kdt_m_effective_daily_price_available_n100_p50 - fill with mean\n",
    "df_data_num['r_kdt_m_effective_daily_price_available_n100_p50'] = \\\n",
    "    df_data_num['r_kdt_m_effective_daily_price_available_n100_p50'].fillna(\n",
    "        df_data_num['r_kdt_m_effective_daily_price_available_n100_p50'].mean())\n",
    "# r_kdt_m_effective_daily_price_booked_n100_p50\n",
    "df_data_num['r_kdt_m_effective_daily_price_booked_n100_p50'] = \\\n",
    "    df_data_num['r_kdt_m_effective_daily_price_booked_n100_p50'].fillna(\n",
    "        df_data_num['r_kdt_m_effective_daily_price_booked_n100_p50'].mean())\n",
    "    \n",
    "# --- Encode categorical features --- #\n",
    "# --- Put these features separate from the continuous features --- #\n",
    "list_encoded = []\n",
    "# dim_market - one-hot encoding\n",
    "df = encode_column_onehot(\n",
    "    df_data_num, 'dim_market', ['Los Angeles', 'Paris', 'San Francisco'])\n",
    "list_encoded.append(df)\n",
    "# dim_room_type - one-hot encoding\n",
    "df = encode_column_onehot(\n",
    "    df_data_num, 'dim_room_type', ['Private room', 'Shared room', 'Entire home/apt'])\n",
    "list_encoded.append(df)\n",
    "# dim_is_instant_bookable - boolean -> int\n",
    "s = df_data_num['dim_is_instant_bookable'].astype(int)\n",
    "del df_data_num['dim_is_instant_bookable']\n",
    "list_encoded.append(s)\n",
    "# cancel_policy - one-hot encoding\n",
    "df = encode_column_onehot(\n",
    "    df_data_num, 'cancel_policy', [3, 4, 5, 6, 7, 8, 9])\n",
    "list_encoded.append(df)\n",
    "# dim_has_wireless_internet - keep as 0/1\n",
    "s = df_data_num['dim_has_wireless_internet']\n",
    "del df_data_num['dim_has_wireless_internet']\n",
    "list_encoded.append(s)\n",
    "# ds_night_day_of_week - cyclic encoding\n",
    "df = encode_column_cyclic(df_data_num, 'ds_night_day_of_week', [0, 7])\n",
    "list_encoded.append(df)\n",
    "# ds_night_day_of_year - cyclic encoding\n",
    "df = encode_column_cyclic(df_data_num, 'ds_night_day_of_year', [0, 365])\n",
    "list_encoded.append(df)\n",
    "\n",
    "# --- Standardize continuous features to have zero mean and unit variance --- #\n",
    "s_feature_mean = df_data_num.mean(axis=0)\n",
    "s_feature_std = df_data_num.std(axis=0)\n",
    "df_data_num = (df_data_num - s_feature_mean) / s_feature_std\n",
    "\n",
    "# --- Put \"y\", continuous features and encoded categorical features together --- #\n",
    "df_data_num = pd.concat([s_dim_is_requested] + [df_data_num] + list_encoded, axis=1)"
   ]
  },
  {
   "cell_type": "code",
   "execution_count": 9,
   "metadata": {},
   "outputs": [
    {
     "data": {
      "image/png": "[encoded data removed]",
      "text/plain": [
       "<matplotlib.figure.Figure at 0x18fb6b74320>"
      ]
     },
     "metadata": {},
     "output_type": "display_data"
    }
   ],
   "source": [
    "# (plot encoded ds_night_day_of_week for illustration)\n",
    "fig = plt.figure(figsize=(5, 5))\n",
    "s_sin = df_data_num['ds_night_day_of_week_1']\n",
    "s_cos = df_data_num['ds_night_day_of_week_2']\n",
    "plt.plot(s_sin, s_cos, '.')\n",
    "plt.xlabel(\"sin(day of week)\", fontsize=16)\n",
    "plt.ylabel(\"cos(day of week)\", fontsize=16)\n",
    "plt.axis('scaled');\n",
    "fig.savefig(os.path.join(output_dir, 'cyclic_encode.png'),\n",
    "            format='png', bbox_inches='tight')"
   ]
  },
  {
   "cell_type": "code",
   "execution_count": 147,
   "metadata": {
    "scrolled": true
   },
   "outputs": [
    {
     "data": {
      "image/png": "[encoded data removed]",
      "text/plain": [
       "<matplotlib.figure.Figure at 0x18fbc53b358>"
      ]
     },
     "metadata": {},
     "output_type": "display_data"
    }
   ],
   "source": [
    "# ================================================= #\n",
    "# Divide training, validation and test sets (6:2:2)\n",
    "# ================================================= #\n",
    "np.random.seed(2222)\n",
    "# --- Determine the size of each set --- #\n",
    "n_train = int(len(df_data_num) * 0.6)\n",
    "n_vali = int(len(df_data_num) * 0.2)\n",
    "n_test = len(df_data_num) - n_train - n_vali\n",
    "# --- Randomly divide the orig. dataset --- #\n",
    "df_shuffled = df_data_num.sample(frac=1)\n",
    "df_train = df_shuffled[:n_train]\n",
    "df_vali = df_shuffled[n_train:(n_train+n_vali)]\n",
    "df_test = df_shuffled[(n_train+n_vali):]\n",
    "\n",
    "# --- Check whether data is evenly distributed - plot bar charts --- #\n",
    "fig = plt.figure(figsize=(10, 5))\n",
    "# Check dim_is_requested distribution\n",
    "ax = plt.subplot(1, 2, 1)\n",
    "y_frac_train = df_train['dim_is_requested'].sum() / len(df_train)\n",
    "y_frac_vali = df_vali['dim_is_requested'].sum() / len(df_vali)\n",
    "y_frac_test = df_test['dim_is_requested'].sum() / len(df_test)\n",
    "y_true = [y_frac_train, y_frac_vali, y_frac_test]\n",
    "y_false = [1-y_frac_train, 1-y_frac_vali, 1-y_frac_test]\n",
    "ax = plot_bar_stacked(\n",
    "    ax, [y_true, y_false],\n",
    "    bar_names=['Training', 'Validation', 'Test'],\n",
    "    ylabel='Fraction',\n",
    "    legends=['Eventually booked', 'Not booked'])\n",
    "# Check dim_market distribution\n",
    "ax = plt.subplot(1, 2, 2)\n",
    "market_frac = []\n",
    "n_market = 3\n",
    "for i in range(n_market):\n",
    "    frac_train = df_train['dim_market_{}'.format(i+1)].sum() / len(df_train)\n",
    "    frac_vali = df_vali['dim_market_{}'.format(i+1)].sum() / len(df_vali)\n",
    "    frac_test = df_test['dim_market_{}'.format(i+1)].sum() / len(df_test)\n",
    "    market_frac.append([frac_train, frac_vali, frac_test])\n",
    "ax = plot_bar_stacked(\n",
    "    ax, market_frac,\n",
    "    bar_names=['Training', 'Validation', 'Test'],\n",
    "    ylabel='Fraction',\n",
    "    legends=['Los Angeles', 'Paris', 'San Francisco'])\n",
    "fig.savefig(os.path.join(output_dir, 'data_divide_check.png'),\n",
    "            format='png', bbox_inches='tight')"
   ]
  },
  {
   "cell_type": "code",
   "execution_count": 222,
   "metadata": {
    "scrolled": true
   },
   "outputs": [],
   "source": [
    "# ================================================= #\n",
    "# Fit logistic regression (all features; no regularization)\n",
    "# ================================================= #\n",
    "# Extract data\n",
    "X_train = df_train.values[:, 1:]\n",
    "y_train = df_train['dim_is_requested'].astype(int).values\n",
    "X_vali = df_vali.values[:, 1:]\n",
    "y_vali = df_vali['dim_is_requested'].astype(int).values\n",
    "# --- Run model --- #\n",
    "logreg_no_reg, f1_train_no_reg, f1_vali_no_reg, fitted_coef_no_reg, time_fit_no_reg = \\\n",
    "    run_model_logreg('l2', 1e9, X_train, y_train, X_vali, y_vali)"
   ]
  },
  {
   "cell_type": "code",
   "execution_count": 225,
   "metadata": {
    "scrolled": true
   },
   "outputs": [
    {
     "name": "stdout",
     "output_type": "stream",
     "text": [
      "Time for fitting: 46.42946608186321 seconds\n",
      "0.612755836515 0.605361803084\n",
      "Top features:  ['dim_market_2' 'cancel_policy_5' 'price_booked_most_recent'\n",
      " 'occ_occupancy_trailing_90_ds'\n",
      " 'listing_m_listing_views_2_6_ds_night_decay' 'dim_has_wireless_internet'\n",
      " 'r_kdt_n_active_n100' 'm_total_overall_rating' 'dim_is_instant_bookable'\n",
      " 'general_market_m_contacts_0_6_ds_night'] \n",
      "\n"
     ]
    }
   ],
   "source": [
    "print('Time for fitting: {} seconds'.format(time_fit_no_reg))\n",
    "print(f1_train_no_reg, f1_vali_no_reg)\n",
    "print('Top features: ', find_top_features_logreg(fitted_coef_no_reg, df_data_num, 10), '\\n')"
   ]
  },
  {
   "cell_type": "code",
   "execution_count": 258,
   "metadata": {
    "scrolled": false
   },
   "outputs": [
    {
     "name": "stdout",
     "output_type": "stream",
     "text": [
      "m = 100\n",
      "m = 300\n",
      "m = 1000\n",
      "m = 3000\n",
      "m = 10000\n",
      "m = 30000\n",
      "m = 110567\n"
     ]
    }
   ],
   "source": [
    "# ================================================= #\n",
    "# Learning curve for logistic regression model, no regularization\n",
    "# ================================================= #\n",
    "# --- Run the model for various number of training size --- #\n",
    "results = {}\n",
    "m_values = [100, 300, 1000, 3000, 10000, 30000, len(X_train)]\n",
    "for m in m_values:\n",
    "    print('m = {}'.format(m))\n",
    "    results[m] = run_model_logreg(\n",
    "        'l2', 1e9, X_train[:m], y_train[:m], X_vali, y_vali)"
   ]
  },
  {
   "cell_type": "code",
   "execution_count": 261,
   "metadata": {},
   "outputs": [
    {
     "data": {
      "image/png": "[encoded data removed]",
      "text/plain": [
       "<matplotlib.figure.Figure at 0x18f83147e48>"
      ]
     },
     "metadata": {},
     "output_type": "display_data"
    }
   ],
   "source": [
    "# --- Plot learning curve --- #\n",
    "fig = plt.figure()\n",
    "list_f1_train = [results[m][1] for m in m_values]\n",
    "list_f1_vali = [results[m][2] for m in m_values]\n",
    "plt.plot(m_values[:5], list_f1_train[:5], 'ro-')\n",
    "plt.plot(m_values[:5], list_f1_vali[:5], 'bo-')\n",
    "plt.xlabel('Training set size', fontsize=16)\n",
    "plt.ylabel('F-score', fontsize=16)\n",
    "plt.title('Learning curve of logistic regression\\nw/o regularization',\n",
    "          fontsize=16)\n",
    "plt.legend(['Prediction on training set', 'Prediction on validation set'])\n",
    "fig.savefig(os.path.join(output_dir, 'learning_curve_logreg.png'),\n",
    "            format='png', bbox_inches='tight')"
   ]
  },
  {
   "cell_type": "code",
   "execution_count": 220,
   "metadata": {},
   "outputs": [
    {
     "name": "stdout",
     "output_type": "stream",
     "text": [
      "L2 regularization, C = 100\n",
      "Time for fitting: 35.3 seconds\n",
      "F1 score for training & validation sets: 0.613 0.605\n",
      "Top features:  ['dim_market_2' 'cancel_policy_5' 'price_booked_most_recent'\n",
      " 'occ_occupancy_trailing_90_ds'\n",
      " 'listing_m_listing_views_2_6_ds_night_decay' 'dim_has_wireless_internet'\n",
      " 'r_kdt_n_active_n100' 'm_total_overall_rating' 'dim_is_instant_bookable'\n",
      " 'general_market_m_contacts_0_6_ds_night'] \n",
      "\n",
      "L2 regularization, C = 30\n",
      "Time for fitting: 23.0 seconds\n",
      "F1 score for training & validation sets: 0.612 0.604\n",
      "Top features:  ['dim_market_2' 'cancel_policy_5' 'price_booked_most_recent'\n",
      " 'occ_occupancy_trailing_90_ds'\n",
      " 'listing_m_listing_views_2_6_ds_night_decay' 'dim_has_wireless_internet'\n",
      " 'r_kdt_n_active_n100' 'm_total_overall_rating' 'dim_is_instant_bookable'\n",
      " 'general_market_m_contacts_0_6_ds_night'] \n",
      "\n",
      "L2 regularization, C = 10\n",
      "Time for fitting: 17.7 seconds\n",
      "F1 score for training & validation sets: 0.613 0.604\n",
      "Top features:  ['dim_market_2' 'cancel_policy_5' 'price_booked_most_recent'\n",
      " 'occ_occupancy_trailing_90_ds'\n",
      " 'listing_m_listing_views_2_6_ds_night_decay' 'dim_has_wireless_internet'\n",
      " 'r_kdt_n_active_n100' 'm_total_overall_rating' 'dim_is_instant_bookable'\n",
      " 'general_market_m_contacts_0_6_ds_night'] \n",
      "\n",
      "L2 regularization, C = 3\n",
      "Time for fitting: 9.7 seconds\n",
      "F1 score for training & validation sets: 0.613 0.603\n",
      "Top features:  ['dim_market_2' 'cancel_policy_5' 'price_booked_most_recent'\n",
      " 'occ_occupancy_trailing_90_ds'\n",
      " 'listing_m_listing_views_2_6_ds_night_decay' 'dim_has_wireless_internet'\n",
      " 'r_kdt_n_active_n100' 'm_total_overall_rating' 'dim_is_instant_bookable'\n",
      " 'general_market_m_contacts_0_6_ds_night'] \n",
      "\n",
      "L2 regularization, C = 1\n",
      "Time for fitting: 9.1 seconds\n",
      "F1 score for training & validation sets: 0.612 0.603\n",
      "Top features:  ['dim_market_2' 'cancel_policy_5' 'price_booked_most_recent'\n",
      " 'occ_occupancy_trailing_90_ds'\n",
      " 'listing_m_listing_views_2_6_ds_night_decay' 'dim_has_wireless_internet'\n",
      " 'r_kdt_n_active_n100' 'm_total_overall_rating' 'dim_is_instant_bookable'\n",
      " 'general_market_m_contacts_0_6_ds_night'] \n",
      "\n",
      "L2 regularization, C = 0.3\n",
      "Time for fitting: 6.5 seconds\n",
      "F1 score for training & validation sets: 0.612 0.603\n",
      "Top features:  ['dim_market_2' 'cancel_policy_5' 'price_booked_most_recent'\n",
      " 'occ_occupancy_trailing_90_ds'\n",
      " 'listing_m_listing_views_2_6_ds_night_decay' 'dim_has_wireless_internet'\n",
      " 'r_kdt_n_active_n100' 'm_total_overall_rating' 'dim_is_instant_bookable'\n",
      " 'general_market_m_contacts_0_6_ds_night'] \n",
      "\n"
     ]
    }
   ],
   "source": [
    "# ================================================= #\n",
    "# Fit logistic regression (all features; L2 regularization)\n",
    "# ================================================= #\n",
    "# Extract data\n",
    "X_train = df_train.values[:, 1:]\n",
    "y_train = df_train['dim_is_requested'].astype(int).values\n",
    "X_vali = df_vali.values[:, 1:]\n",
    "y_vali = df_vali['dim_is_requested'].astype(int).values\n",
    "# --- Run model with various C values --- #\n",
    "for C in [100, 30, 10, 3, 1, 0.3]:\n",
    "    logreg, f1_train, f1_vali, fitted_coef, time_fit = run_model_logreg(\n",
    "        'l2', C, X_train, y_train, X_vali, y_vali)\n",
    "    print('L2 regularization, C = {}'.format(C))\n",
    "    print('Time for fitting: {:.1f} seconds'.format(time_fit))\n",
    "    print('F1 score for training & validation sets: {:.3f} {:.3f}'.format(\n",
    "        f1_train, f1_vali))\n",
    "    print('Top features: ', find_top_features_logreg(fitted_coef, df_data_num, 10), '\\n')"
   ]
  },
  {
   "cell_type": "code",
   "execution_count": 303,
   "metadata": {},
   "outputs": [
    {
     "name": "stdout",
     "output_type": "stream",
     "text": [
      "n_estimator = 3\n",
      "n_estimator = 10\n",
      "n_estimator = 30\n",
      "n_estimator = 100\n",
      "n_estimator = 300\n",
      "n_estimator = 1000\n"
     ]
    }
   ],
   "source": [
    "# ================================================= #\n",
    "# Random forest\n",
    "# ================================================= #\n",
    "# Run model\n",
    "n_estimator_values = [3, 10, 30, 100, 300, 1000]\n",
    "results = {}\n",
    "for n_estimator in n_estimator_values:\n",
    "    print('n_estimator = {}'.format(n_estimator))\n",
    "    results[n_estimator] = run_model_random_forest(\n",
    "        n_estimator, X_train, y_train, X_vali, y_vali)"
   ]
  },
  {
   "cell_type": "code",
   "execution_count": 315,
   "metadata": {},
   "outputs": [
    {
     "data": {
      "image/png": "[encoded data removed]",
      "text/plain": [
       "<matplotlib.figure.Figure at 0x18f88ca2ba8>"
      ]
     },
     "metadata": {},
     "output_type": "display_data"
    }
   ],
   "source": [
    "# Extract and plot results\n",
    "list_f1_train = [results[n_estimator][1] for n_estimator in n_estimator_values]\n",
    "list_f1_vali = [results[n_estimator][2] for n_estimator in n_estimator_values]\n",
    "fig = plt.figure()\n",
    "plt.plot(n_estimator_values, list_f1_train, 'ro-')\n",
    "plt.plot(n_estimator_values, list_f1_vali, 'bo-')\n",
    "plt.xlabel('Number of trees', fontsize=16)\n",
    "plt.ylabel('F-score', fontsize=16)\n",
    "plt.title('F1-scores of random forest\\nwith various number of trees',\n",
    "          fontsize=16)\n",
    "plt.legend(['Prediction on training set', 'Prediction on validation set'])\n",
    "fig.savefig(os.path.join(output_dir, 'random_forest_f1.png'),\n",
    "            format='png', bbox_inches='tight')"
   ]
  },
  {
   "cell_type": "code",
   "execution_count": 316,
   "metadata": {},
   "outputs": [
    {
     "data": {
      "text/plain": [
       "[1.6038045858258556,\n",
       " 4.6356810997240245,\n",
       " 14.27768763770655,\n",
       " 48.03367223529858,\n",
       " 144.61219302957397,\n",
       " 470.0623195297849]"
      ]
     },
     "execution_count": 316,
     "metadata": {},
     "output_type": "execute_result"
    }
   ],
   "source": [
    "# Print model fitting time\n",
    "[results[n_estimator][3] for n_estimator in n_estimator_values]"
   ]
  },
  {
   "cell_type": "code",
   "execution_count": 332,
   "metadata": {
    "scrolled": true
   },
   "outputs": [
    {
     "name": "stdout",
     "output_type": "stream",
     "text": [
      "[47 46 44 45 38 36 48 34 37 39 35 41 43 25 42 40 50 12 10 11]\n"
     ]
    },
    {
     "data": {
      "text/plain": [
       "array(['cancel_policy_7', 'cancel_policy_6', 'cancel_policy_4',\n",
       "       'cancel_policy_5', 'dim_room_type_2', 'dim_market_3',\n",
       "       'dim_has_wireless_internet', 'dim_market_1', 'dim_room_type_1',\n",
       "       'dim_room_type_3', 'dim_market_2', 'cancel_policy_1',\n",
       "       'cancel_policy_3', 'general_market_m_is_booked_0_6_ds_night',\n",
       "       'cancel_policy_2', 'dim_is_instant_bookable',\n",
       "       'ds_night_day_of_week_2', 'ds_checkout_gap',\n",
       "       'm_professional_pictures', 'ds_checkin_gap'], dtype=object)"
      ]
     },
     "execution_count": 332,
     "metadata": {},
     "output_type": "execute_result"
    }
   ],
   "source": [
    "# Print top features\n",
    "find_top_features_random_forest(results[100][0], df_data_num, 20)"
   ]
  },
  {
   "cell_type": "code",
   "execution_count": 337,
   "metadata": {},
   "outputs": [
    {
     "name": "stdout",
     "output_type": "stream",
     "text": [
      "Final test F-score = 0.7467724168319013\n"
     ]
    }
   ],
   "source": [
    "# Prediction on the test set with n_tree = 100\n",
    "X_test = df_test.values[:, 1:]\n",
    "y_test = df_test['dim_is_requested'].astype(int).values\n",
    "y_test_pred = results[100][0].predict(X_test)\n",
    "f1_test = f1_score(y_true=y_test, y_pred=y_test_pred)\n",
    "print('Final test F-score = {}'.format(f1_test))"
   ]
  },
  {
   "cell_type": "markdown",
   "metadata": {},
   "source": [
    "# Functions"
   ]
  },
  {
   "cell_type": "code",
   "execution_count": 331,
   "metadata": {
    "collapsed": true
   },
   "outputs": [],
   "source": [
    "def find_top_features_random_forest(clf, df, largest_x):\n",
    "    ''' Find the most influential features (with largest positive coefficients)\n",
    "    \n",
    "    Parameters\n",
    "    ----------\n",
    "    clf: <sklearn.ensemble.forest.RandomForestClassifier>\n",
    "        The random forest model object\n",
    "    df: <pd.DataFrame>\n",
    "        Original dataframe with the first column being y label\n",
    "    largest_x: <int>\n",
    "        The top x parameters with the largest coefficients will be returned\n",
    "    '''\n",
    "    \n",
    "    max_coef_ind = clf.feature_importances_.argsort()[:largest_x]\n",
    "    print(max_coef_ind)\n",
    "    top_features = df.columns[1:][max_coef_ind].values\n",
    "    return top_features"
   ]
  },
  {
   "cell_type": "code",
   "execution_count": 307,
   "metadata": {
    "collapsed": true
   },
   "outputs": [],
   "source": [
    "def run_model_random_forest(n_estimators, X_train, y_train, X_vali, y_vali):\n",
    "    ''' Fit a logistic regression model on the training set and\n",
    "    predict on training and test set. Calculate F score.\n",
    "    \n",
    "    Parameters\n",
    "    ----------\n",
    "    n_estimators: <int>\n",
    "        Number of trees in the forest\n",
    "    X_train: <np.array>\n",
    "        Training features\n",
    "    y_train: <np.array>\n",
    "        Training labels\n",
    "    X_vali: <np.array>\n",
    "        Validation features\n",
    "    y_vali: <np.array>\n",
    "        Validation labels\n",
    "    \n",
    "    Returns\n",
    "    ----------\n",
    "    clf: <sklearn.ensemble.forest.RandomForestClassifier>\n",
    "        The random forest model object\n",
    "    f1_train: <floag>\n",
    "        F1 score on the training set\n",
    "    f1_vali: <floag>\n",
    "        F1 score on the validation set\n",
    "    time_fit: <float>\n",
    "        Time for fitting in seconds\n",
    "    '''\n",
    "    \n",
    "    # --- Fit model --- #\n",
    "    clf = RandomForestClassifier(n_estimators=n_estimators)\n",
    "    time1 = timeit.default_timer()\n",
    "    clf.fit(X_train, y_train)\n",
    "    time2 = timeit.default_timer()\n",
    "    time_fit = time2 - time1\n",
    "    \n",
    "    # --- Predict --- #\n",
    "    y_train_pred = clf.predict(X_train)\n",
    "    y_vali_pred = clf.predict(X_vali)\n",
    "    f1_train = f1_score(y_true=y_train, y_pred=y_train_pred)\n",
    "    f1_vali = f1_score(y_true=y_vali, y_pred=y_vali_pred)\n",
    "    \n",
    "    return clf, f1_train, f1_vali, time_fit"
   ]
  },
  {
   "cell_type": "code",
   "execution_count": 304,
   "metadata": {
    "collapsed": true
   },
   "outputs": [],
   "source": [
    "def find_top_features_logreg(fitted_coef, df, largest_x):\n",
    "    ''' Find the most influential features (with largest positive coefficients)\n",
    "    \n",
    "    Parameters\n",
    "    ----------\n",
    "    fitted_coef: <np.array>\n",
    "        Fitted coefficients\n",
    "    df: <pd.DataFrame>\n",
    "        Original dataframe with the first column being y label\n",
    "    largest_x: <int>\n",
    "        The top x parameters with the largest coefficients will be returned\n",
    "    '''\n",
    "    \n",
    "    max_coef_ind = logreg_coef.argsort()[-largest_x:][::-1]\n",
    "    top_features = df.columns[1:][max_coef_ind].values\n",
    "    return top_features"
   ]
  },
  {
   "cell_type": "code",
   "execution_count": 192,
   "metadata": {
    "collapsed": true
   },
   "outputs": [],
   "source": [
    "def run_model_logreg(penalty, C, X_train, y_train, X_vali, y_vali):\n",
    "    ''' Fit a logistic regression model on the training set and\n",
    "    predict on training and test set. Calculate F score.\n",
    "    \n",
    "    Parameters\n",
    "    ----------\n",
    "    penalty: <string>\n",
    "        Regularization method. l1 or l2.\n",
    "    C: <float>\n",
    "        Regularization parameter. Larger C means less regularization.\n",
    "    X_train: <np.array>\n",
    "        Training features\n",
    "    y_train: <np.array>\n",
    "        Training labels\n",
    "    X_vali: <np.array>\n",
    "        Validation features\n",
    "    y_vali: <np.array>\n",
    "        Validation labels\n",
    "    \n",
    "    Returns\n",
    "    ----------\n",
    "    logreg: <sklearn.linear_model.logistic.>\n",
    "        The logistic regression model object\n",
    "    f1_train: <floag>\n",
    "        F1 score on the training set\n",
    "    f1_vali: <floag>\n",
    "        F1 score on the validation set\n",
    "    fitted_coef: <np.array>\n",
    "        An array of fitted coefficients\n",
    "    time_fit: <float>\n",
    "        Time for fitting in seconds\n",
    "    '''\n",
    "    \n",
    "    # --- Fit model --- #\n",
    "    logreg = LogisticRegression(penalty=penalty, C=C)\n",
    "    time1 = timeit.default_timer()\n",
    "    logreg.fit(X_train, y_train)\n",
    "    time2 = timeit.default_timer()\n",
    "    time_fit = time2 - time1\n",
    "    fitted_coef = logreg.coef_.squeeze()\n",
    "    \n",
    "    # --- Predict --- #\n",
    "    y_train_pred = logreg.predict(X_train)\n",
    "    y_vali_pred = logreg.predict(X_vali)\n",
    "    f1_train = f1_score(y_true=y_train, y_pred=y_train_pred)\n",
    "    f1_vali = f1_score(y_true=y_vali, y_pred=y_vali_pred)\n",
    "    \n",
    "    return logreg, f1_train, f1_vali, fitted_coef, time_fit"
   ]
  },
  {
   "cell_type": "code",
   "execution_count": 18,
   "metadata": {
    "collapsed": true
   },
   "outputs": [],
   "source": [
    "def plot_bar_stacked(ax, data, bar_names, ylabel, legends):\n",
    "    ''' Plot a stacked bar plot.\n",
    "    \n",
    "    Parameters\n",
    "    ----------\n",
    "    ax: <matplotlib.axes._subplots.AxesSubplot>\n",
    "        Axis to plot\n",
    "    data: <list>\n",
    "        Nested data to plot.\n",
    "        Level 1: each stack; level 2: each bar\n",
    "    bar_names: <list>\n",
    "        List of names to show on the x axis; must be the same length\n",
    "        as the number of bars in data\n",
    "    ylabel: <str>\n",
    "        ylabel on the plot\n",
    "    legends: <list>\n",
    "        List of legends; must be the same length of number of stacks\n",
    "    \n",
    "    Returns\n",
    "    ----------\n",
    "    ax: <matplotlib.axes._subplots.AxesSubplot>\n",
    "        The axis\n",
    "    '''\n",
    "    \n",
    "    width = 0.35\n",
    "    nbars = len(data[0])\n",
    "    ind = range(nbars)\n",
    "    list_p = []\n",
    "    bottom = data[0]\n",
    "    bottom = [0 for d in bottom]\n",
    "    for i, data_bar in enumerate(data):\n",
    "        list_p.append(plt.bar(ind, data_bar, width,\n",
    "                              bottom=bottom))\n",
    "        bottom = [d+data_bar[j] for j, d in enumerate(bottom)]\n",
    "    plt.ylabel(ylabel, fontsize=16)\n",
    "    plt.xticks(ind, bar_names)\n",
    "    plt.legend(list_p, legends)\n",
    "    for tick in ax.xaxis.get_major_ticks():\n",
    "        tick.label.set_fontsize(16)\n",
    "    return ax"
   ]
  },
  {
   "cell_type": "code",
   "execution_count": 4,
   "metadata": {
    "collapsed": true
   },
   "outputs": [],
   "source": [
    "def encode_column_cyclic(df, column_name, circle_range):\n",
    "    ''' Delete a column in a DataFrame and return a list of columns (in a df)\n",
    "    with cyclic encoded numerical values.\n",
    "    \n",
    "    Parameters\n",
    "    ----------\n",
    "    df: <pd.DataFrame>\n",
    "        Original df\n",
    "    column_name: <str>\n",
    "        Name of the column to be replaced\n",
    "    circle_range: <list>\n",
    "        A list of two numbers indicating the range of the orig. data. These\n",
    "        two numbers are essentially representing the same point in a circle.\n",
    "        E.g., if weekdays are represented by 0, 1, ..., 6, then circle_range\n",
    "        = [0, 7]\n",
    "    Return\n",
    "    ----------\n",
    "    df_cyclic: <pd.DataFrame>\n",
    "        The new df, with column names \"column_name_1\", \"column_name_2\"\n",
    "    '''\n",
    "\n",
    "    # Generate cyclically encoded columns\n",
    "    s_sin = np.sin(2 * np.pi * df_data_num[column_name] / (circle_range[1] - circle_range[0]))\n",
    "    s_cos = np.cos(2 * np.pi * df_data_num[column_name] / (circle_range[1] - circle_range[0]))\n",
    "    # Delete the original column\n",
    "    del df[column_name]\n",
    "    # Generate new df\n",
    "    new_column_names = []\n",
    "    for i in range(2):\n",
    "        new_column_names.append('{}_{}'.format(column_name, i+1))\n",
    "    df_cyclic = pd.concat([s_sin, s_cos], axis=1, keys=new_column_names)\n",
    "    \n",
    "    return df_cyclic"
   ]
  },
  {
   "cell_type": "code",
   "execution_count": 5,
   "metadata": {
    "collapsed": true
   },
   "outputs": [],
   "source": [
    "def encode_column_onehot(df, column_name, list_categ):\n",
    "    ''' Delete a column in a DataFrame and return a list of columns (in a df)\n",
    "    with one-hot encoded numerical values.\n",
    "    \n",
    "    Parameters\n",
    "    ----------\n",
    "    df: <pd.DataFrame>\n",
    "        Original df\n",
    "    column_name: <str>\n",
    "        Name of the column to be replaced\n",
    "    list_catog: <list>\n",
    "        List of categories in the column\n",
    "    \n",
    "    Return\n",
    "    ----------\n",
    "    df_onehot: <pd.DataFrame>\n",
    "        The new df, with column names \"column_name_1\", \"column_name_2\", ...\n",
    "    '''\n",
    "    \n",
    "    # Generate one-hot encoded columns\n",
    "    list_s = []\n",
    "    for i in range(len(list_categ)):\n",
    "        s = (df[column_name] == list_categ[i]).astype(int)\n",
    "        list_s.append(s)\n",
    "    # Check if all categories sum up to the total number of data points\n",
    "    sum_num = sum([sum(s) for s in list_s])\n",
    "    if sum_num != len(df):\n",
    "        print('Warming: {} has missing data!'.format(column_name))\n",
    "    # Delete the original column\n",
    "    del df[column_name]\n",
    "    # Generate new df\n",
    "    new_column_names = []\n",
    "    for i in range(len(list_categ)):\n",
    "        new_column_names.append('{}_{}'.format(column_name, i+1))\n",
    "    df_onehot = pd.concat(list_s, axis=1, keys=new_column_names)\n",
    "    \n",
    "    return df_onehot"
   ]
  },
  {
   "cell_type": "code",
   "execution_count": null,
   "metadata": {
    "collapsed": true
   },
   "outputs": [],
   "source": []
  }
 ],
 "metadata": {
  "kernelspec": {
   "display_name": "Python 3",
   "language": "python",
   "name": "python3"
  },
  "language_info": {
   "codemirror_mode": {
    "name": "ipython",
    "version": 3
   },
   "file_extension": ".py",
   "mimetype": "text/x-python",
   "name": "python",
   "nbconvert_exporter": "python",
   "pygments_lexer": "ipython3",
   "version": "3.6.2"
  }
 },
 "nbformat": 4,
 "nbformat_minor": 2
}
